{
  "nbformat": 4,
  "nbformat_minor": 0,
  "metadata": {
    "colab": {
      "name": "Linear Algebra CH01.ipynb",
      "provenance": [],
      "collapsed_sections": [],
      "authorship_tag": "ABX9TyPNr/61u/iE1M+ymiWX+CSU",
      "include_colab_link": true
    },
    "kernelspec": {
      "name": "python3",
      "display_name": "Python 3"
    }
  },
  "cells": [
    {
      "cell_type": "markdown",
      "metadata": {
        "id": "view-in-github",
        "colab_type": "text"
      },
      "source": [
        "<a href=\"https://colab.research.google.com/github/tae-min-lee/study-Linear-algebra/blob/main/Linear_Algebra_CH01.ipynb\" target=\"_parent\"><img src=\"https://colab.research.google.com/assets/colab-badge.svg\" alt=\"Open In Colab\"/></a>"
      ]
    },
    {
      "cell_type": "markdown",
      "metadata": {
        "id": "OrKgrD3WFy0Z"
      },
      "source": [
        "## 1.1 System of Linear Equation\n",
        "\n",
        "* 하나의 system of linear equation이 해는 총 3가지의 경우가 있는데 첫번째 해가 존재하지 않는 경우, 두번째 단 하나의 해만을 가지는 경우, 세번째 무수히 많은 해를 가지는 경우가 있다.\n",
        "\n",
        "* 그리고 이 중에서 단 하나의 해를 갖거나 무수히 많은 해를 갖는 경우를 consistent 하다. 라고 부른다.\n",
        "\n",
        "* system of linear equation의 계수를 열로 표현한 행렬을 coefficient matrix라고 하고, 우측의 상수까지 포함한 행렬을 augmented matrix라고 한다.\n"
      ]
    },
    {
      "cell_type": "markdown",
      "metadata": {
        "id": "vZq0zRjILTKs"
      },
      "source": [
        "## 1.2 Row Reduction and Echelon Forms\n",
        "\n",
        "* 한 행의 leading entry는 그 행의 가장 왼쪽에는 0이 아닌 성분을 의미한다.\n",
        "\n",
        "* Echelon form은 Matrix가 있으면 한 matrix의 대각선을 기준으로 위쪽에  0이 아닌 값들이 존재하고 그 아래는 모두 0이어서 값이 있는 곳을 보면 사다리꼴 모양인 matrix를 말한다.\n",
        "\n",
        "* 그리고 RREF(reduced row echelon form)은 REF 형태에서 각 0이 아닌 행의 leading entry가 1이면서 각각 leading 1은 해당하는 열에서 0이 아닌 유일한 entry이다.\n",
        "\n",
        "#### Theorem 1: Uniqueness of the Reduced Echelon Form\n",
        "각 행렬은 오직 하나의 기약 행사다리꼴 행렬과 행동치이다.\n",
        "\n",
        "* pivot position은 행렬A의 reduced echelon form에서 leading 1에 해당하는, 행렬 A 내의 위치이다.\n",
        "\n",
        "* pivot column은 pivot position을 포함하는 A의 열을 말한다.\n",
        "\n",
        "#### Theorem 2 : Existence and Uniqueness Theorem\n",
        "\n",
        "linear system은 augmented matrix에서 가장 우측의 열이 pivot column이 아닌 경우에만 consist하다. 만약 linear system이 consistent하다면 다음과 같다. 하나 이상의 free variable이 있다면 무수히 많은 해를 가지고 free variable이 없다면 단 하나의 해 만을 가진다."
      ]
    },
    {
      "cell_type": "markdown",
      "metadata": {
        "id": "hzAQELRrafuP"
      },
      "source": [
        "## 1.3 Vector Equations\n",
        "\n",
        "* 모든 벡터는 column벡터이다\n",
        "\n",
        "* 벡터 표기에서 R은 기하학 적으로 차원을 의미한다.\n",
        "\n",
        "* Span은 벡터들로 형성할 수 있는 공간, 즉 V1과 V2의 선형 조합을 통해 만들어진 공간이다.\n",
        "\n"
      ]
    },
    {
      "cell_type": "markdown",
      "metadata": {
        "id": "3Uk6za5Mfaa7"
      },
      "source": [
        "## 1.4 The Matrix Equation\n",
        "linear algebra의 근본적인 생각은 벡터의 선형 조합을 행렬과 벡터의 곱으로 보는 것이다.\n",
        "* Matrix Equation의 definiton은 A가 mxn 행렬이고 x가 R^n 일때, Ax는 각각의 x라는 벡터의 entry를 weight로 준 A의 열의 linear combination이다.  \n",
        "\n",
        "Ax= \\begin{bmatrix}\n",
        " & & \\\\\n",
        "\\textbf{a}_1 & \\cdots & \\textbf{a}_n\\\\\n",
        " & & \\\\\n",
        "\\end{bmatrix}\n",
        "\\begin{bmatrix}\n",
        "x_1 \\\\ \n",
        "\\vdots \\\\\n",
        "x_n\n",
        "\\end{bmatrix}\n",
        "\n",
        "### Theorem 3\n",
        "\n",
        "A가 MxN 행렬이고 행으로 a_1,...a_n까지 이고 x가 R^n인 matrix equation이  **Ax=b**일 때,\n",
        "이것은 vector equation과 같은 solution set을 가진다.  \n",
        "\n",
        "* '**Ax=b**가 해를 가지는 가진다'의 필요 충분 조건은 행렬 A의 열의 linear combination이다. \n",
        "\n",
        "### Theorem 4\n",
        "만약 A가 MxN행렬이면 아래는 모두 거짓이거나 모두가 참이다\n",
        "\n",
        "\n",
        "\n",
        "\n",
        "1. **R^m** 인 각각의 b에 대해 방적식 Ax는 solution을 가진다.\n",
        "2.   **R^m**인 b는 A행렬의 열 linear combination이다\n",
        "3. A 행렬의 열을 R^m으로 span가능하다\n",
        "4. A의 모든 행은 pivot position을 가진다.\n",
        "\n",
        "* 행렬의 대각선의 성분이 모두 1이고 나머지 성분이 모두 0인 행렬을 Identity Matrix라고 한다.\n",
        "\n",
        "### Theorem 5\n",
        "A 행렬이 Mxn면서 벡터 u와 v가 R^n이고,c는 스칼라 일때 아래가 성립한다.\n",
        "1. **A(u+v) = Au +Av** \n",
        "2. **A(cu)=c(Au)**\n",
        "\n",
        "\n",
        "\n",
        "\n",
        "\n",
        "\n",
        "\n",
        "\n"
      ]
    },
    {
      "cell_type": "markdown",
      "metadata": {
        "id": "66mDR9vu-Mrr"
      },
      "source": [
        "## 1.5 Solution Sets of Linear Systems\n",
        "\n",
        "* system of linear equation이 **Ax=0** 형태라면 homogeneous라고 부른다. A가 MxN행렬이고 0가 R^n의 제로 벡터일 때.\n",
        "\n",
        "* 위와 같은 경우 항상 하나 이상의 해를 가진다.\n",
        "\n",
        "* 영행렬을 solution으로 가지는 해를 trivial solution이라고 하고 **Ax=0** 일때, nontrivial solution은  X가 영행렬이 아닌 해가 존재한다는 뜻이다. \n",
        "\n",
        "* Homogeneous일때, nontrivial solution을 가진다는 뜻은 무수히 많은 solution을 가진다는 뜻과 같다.\n",
        "\n",
        "* Nonhomogeneous system인 **Ax=b**를 풀 때는 homogeneous form과 b로 인하여 발생하는 벡터의 곱의 형태로 바꿔서 해결한다.\n",
        "\n",
        "## Theorem6\n",
        "\n",
        "**Ax=b**가 consistent일 때(**p**는 particular solution이다), 이것의 solution set은 **w=p+v_h**형태의 모든 벡터들의 집합이다.(**v_h는 Ax=0 homogeneous equation의 solution이다**)\n"
      ]
    },
    {
      "cell_type": "markdown",
      "metadata": {
        "id": "BSU2Bs8DXsDz"
      },
      "source": [
        "## 1.7 Linear Independence\n",
        "행렬 A가 존재하고 MxN 행렬이다. 이 때 M < N인 경우는 미지수의 개수가 방적식의 개수보다 더 많다는 뜻이며, 반드시 1개 이상의 free variable이 존재하기 때문에 Ax=0에 대한 0이 아닌 solution이 존재한다 라는 의미이다. \n",
        "\n",
        "* Linear Independenent는 벡터 **X_1**과 **X_2**가 있을 때 이들의 계수가 모두 0인 경우를 제외하고 어떠한 linear combination으로도 결과 값이 0이 나오지 않는 경우를 말한다. \n",
        "\n",
        "* 두 벡터가 Linear Indepenent라면 2차원 공간상의 어떤 벡터도 만들어낼수 있다.\n",
        "\n",
        "* 3개의 벡터가 존재할 경우는 서로가 dependent한 관계이다. 그 이유는 M<N인 경우에 해당하기 때문이다. \n",
        "\n",
        "* Independence일때 \n",
        "\n",
        "   1. 벡터들을 행렬 A의 column에 넣고 A의 Null space를 확인\n",
        "   2. 만약 **Ax=0**가 오직 제로 벡터만 존재한다면, 독립이다\n",
        "   3. 이때의 행렬 A의 Rank는 column의 수와 같다\n",
        "   4. 따라서 free variable이 존재하지 않는다.\n",
        "\n",
        "### Theorem 7 : Characterization of Linearly Dependent Sets \n",
        "벡터의 집합 **S={v_1....V_p}**(두 개 이상의 벡터로 구성된)가 linearly dependent하다의 필요충분 조건은 **S**의 벡터중 최소한 하나 이상이 다른 벡터의 linear conbination인 경우이다.\n",
        "결국 이 말은 선형독립한 집합의 모든 벡터가 선행 벡터들의 linear combination이 아니다 라는 말이다.  \n"
      ]
    },
    {
      "cell_type": "markdown",
      "metadata": {
        "id": "Vdf8H4O5B77K"
      },
      "source": [
        "## 1.8 Introduction to Linear Transformations\n",
        "\n",
        "* Linear Transformations\n",
        "\n",
        "transformation( R^n에서 R^m으로 가는)은 R^n의 각각의 벡터들이 R^m으로 바뀌는것을 말한다\n",
        "\n",
        "* 여기서 R^n을 domain(정의역)이라고 부르고 , R^m을 codomain(공역)이라고 부른다.\n",
        "\n",
        "* shear Transformations은  **T(x)=Ax**에 의해 정의된 변환 **T**가 R^2에서 R^2로의 변환을 **shear Transformation**이라고 한다.\n",
        " \n",
        " \n",
        "* Definition : A transformation  T \n",
        "  1.  **T(u + v)=T(u) + T(v)**인 모든 벡터 u,v는 T의 domain안에 있다.\n",
        "  2.**T(cu)=cT(u)**인 모든 스칼라 c와 벡터 u는 **T**의 domain안에 있다.\n",
        "\n",
        "\n"
      ]
    },
    {
      "cell_type": "markdown",
      "metadata": {
        "id": "FEwvHar0KbMQ"
      },
      "source": [
        "## 1.9 The Matrix of a Linear Transformation\n",
        "\n",
        "### Theorem 10\n",
        "T: R^n **->** R^m가 linear transforamtion이고 행렬 A가 unique하다면, \n",
        "\n",
        "R^n의 모든 x에 대하여**T(x)=Ax**이다 \n",
        "\n",
        "\n",
        "* onto(전사)는 codomain의 모든 원소가 선택되었다는 말로 **codomain=range**를 의미한다.\n",
        "\n",
        "* one-to-one은 쉽게 말해 일대일 함수로 domain의 원소 하나는 단 하나의 codomain의 원소에 대응한다는 것을 말한다.\n",
        "\n",
        "### Theorm 11\n",
        "**T:R^n->R^m**인 linear transformation이라면,\n",
        "T가 one-to-one일 때의 필요충분 조건은 방정식 **Ax=0**이 오로지 trivial solution을 가진다 이다.\n",
        "\n",
        "### Theorm 12\n",
        "**T:R^n->R^m**인 linear transformation이고 행렬**A**가**T**에 대한 standard matrix일때,\n",
        "\n",
        "1. **A**의 columns이 **R^m**의 span이다.의 필요충분 조건은 **R^n onto R^m T**이다\n",
        "2. **T**가 one-to-one의 필요충분 조건은 **A**의 columns이 선형독립이다.\n"
      ]
    }
  ]
}